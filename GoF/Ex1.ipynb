{
 "cells": [
  {
   "cell_type": "markdown",
   "metadata": {},
   "source": [
    "# 0. Preparation"
   ]
  },
  {
   "cell_type": "code",
   "execution_count": 1,
   "metadata": {},
   "outputs": [],
   "source": [
    "# imports\n",
    "import numpy as np\n",
    "import matplotlib.pyplot as plt\n",
    "from scipy.stats import chi2"
   ]
  },
  {
   "cell_type": "code",
   "execution_count": 2,
   "metadata": {},
   "outputs": [],
   "source": [
    "# parameters\n",
    "a0 = 3\n",
    "b0 =0.1\n",
    "\n",
    "xx0 = np.array([10,11,12,20,21,22])\n",
    "yy0 = np.array([4.0,3.8,3.6,5.2,4.9,4.8])"
   ]
  },
  {
   "cell_type": "code",
   "execution_count": 3,
   "metadata": {},
   "outputs": [],
   "source": [
    "# functions\n",
    "def calc_chi2(yy,a,b):\n",
    "    chi2val = sum((yy - (a + b*xx0))**2 / 1)\n",
    "    return chi2val\n",
    "\n",
    "def chi2prob(chi2val,ndf):\n",
    "    return 1 - chi2.cdf(chi2val, ndf)\n",
    "\n",
    "def sl_MLE(xx,yy):\n",
    "    xy = xx * yy\n",
    "    xx2 = xx * xx\n",
    "    mean_x = np.mean(xx)\n",
    "    mean_y = np.mean(yy)\n",
    "    mean_x2 = np.mean(xx2)\n",
    "    mean_xy = np.mean(xy)\n",
    "    b = (mean_xy - mean_x*mean_y) / (mean_x2 - mean_x**2)\n",
    "    a = mean_y - b*mean_x\n",
    "    return (a,b)"
   ]
  },
  {
   "cell_type": "markdown",
   "metadata": {},
   "source": [
    "# 1. Measured values"
   ]
  },
  {
   "cell_type": "code",
   "execution_count": 4,
   "metadata": {},
   "outputs": [
    {
     "name": "stdout",
     "output_type": "stream",
     "text": [
      "pre-fit chi2 and p-value with original data:\n",
      "0.6900000000000001 0.9947043391999434 \n",
      "\n",
      "post-fit chi2 and p-value with original data:\n",
      "0.3973593073593073 0.9826925338333165 \n",
      "\n"
     ]
    }
   ],
   "source": [
    "## 1. Original data\n",
    "print (\"pre-fit chi2 and p-value with original data:\")\n",
    "chi20 = calc_chi2(yy0,a0,b0)\n",
    "pval0 = chi2prob(chi20,len(xx0))\n",
    "print(chi20, pval0, \"\\n\")\n",
    "\n",
    "print(\"post-fit chi2 and p-value with original data:\")\n",
    "abhat0 = sl_MLE(xx0,yy0)\n",
    "ahat0 = abhat0[0]\n",
    "bhat0 = abhat0[1]\n",
    "chi20post = calc_chi2(yy0,ahat0,bhat0)\n",
    "pval0post = chi2prob(chi20post,len(xx0)-2)\n",
    "print(chi20post, pval0post, \"\\n\")"
   ]
  },
  {
   "cell_type": "markdown",
   "metadata": {},
   "source": [
    "**Comment**: the $\\chi^2$ values are extremely small, leading to unexpectedly large p-values. You can tell here that I made up the \"measured\" values by hand and that they are not realistic..."
   ]
  },
  {
   "cell_type": "markdown",
   "metadata": {},
   "source": [
    "# 2. Toy study"
   ]
  },
  {
   "cell_type": "code",
   "execution_count": 5,
   "metadata": {},
   "outputs": [],
   "source": [
    "## 2. Toy study\n",
    "# parameter: number of toys to throw\n",
    "Ntoys = 10000\n",
    "\n",
    "# initial arrays\n",
    "chi2pre, pvalpre, chi2post, pvalpost = [], [], [], []\n",
    "\n",
    "# toys loop\n",
    "for i in range(0,Ntoys):\n",
    "    yyt = []\n",
    "    \n",
    "    # a. throw the toys\n",
    "    for j in range(0,len(xx0)):\n",
    "        yyt.append(np.random.normal(a0+b0*xx0[j],1))\n",
    "\n",
    "    # b. compute the pre-fit chi2 and p-value\n",
    "    chi2t_pre = calc_chi2(yyt,a0,b0)\n",
    "    pvalt_pre = chi2prob(chi2t_pre,len(xx0))\n",
    "    chi2pre.append(chi2t_pre)\n",
    "    pvalpre.append(pvalt_pre)\n",
    "\n",
    "    # c. compute the MLEs\n",
    "    abhatt = sl_MLE(xx0,yyt)\n",
    "    ahatt = abhatt[0]\n",
    "    bhatt = abhatt[1]\n",
    "    \n",
    "    # d. compute the post-fit chi2 and p-value\n",
    "    chi2t_post = calc_chi2(yyt,ahatt,bhatt)\n",
    "    pvalt_post = chi2prob(chi2t_post,len(xx0)-2)\n",
    "    chi2post.append(chi2t_post)\n",
    "    pvalpost.append(pvalt_post)"
   ]
  },
  {
   "cell_type": "code",
   "execution_count": 10,
   "metadata": {},
   "outputs": [
    {
     "data": {
      "image/png": "[encoded data removed]",
      "text/plain": [
       "<Figure size 432x288 with 4 Axes>"
      ]
     },
     "metadata": {
      "needs_background": "light"
     },
     "output_type": "display_data"
    }
   ],
   "source": [
    "# for plotting: expected distributions for chi2 and pvalues\n",
    "xchi2 = np.linspace(0,20,100)\n",
    "ychi2_pre = chi2.pdf(xchi2, len(xx0))\n",
    "ychi2_post = chi2.pdf(xchi2, len(xx0)-2)\n",
    "xpval = np.linspace(0,1,100)\n",
    "ypval = np.full_like(xpval, 1)\n",
    "    \n",
    "# draw the results\n",
    "plt.figure()\n",
    "\n",
    "plt.subplot(221)\n",
    "plt.hist(chi2pre, np.linspace(0, 20, 20), density=True)\n",
    "plt.plot(xchi2, ychi2_pre, '--', label=r'$\\chi^2$ law (6 dof)')\n",
    "plt.title(r'$\\chi^2$ (pre-fit)')\n",
    "plt.legend()\n",
    "\n",
    "plt.subplot(222)\n",
    "plt.hist(pvalpre, np.linspace(0, 1, 20), density=True)\n",
    "plt.plot(xpval, ypval, '--')\n",
    "plt.title(r'p-value (pre-fit)')\n",
    "\n",
    "plt.subplot(223)\n",
    "plt.hist(chi2post, np.linspace(0, 20, 20), density=True)\n",
    "plt.plot(xchi2, ychi2_post, '--', label=r'$\\chi^2$ law (4 dof)')\n",
    "plt.title(r'$\\chi^2$ (post-fit)')\n",
    "plt.legend()\n",
    "\n",
    "plt.subplot(224)\n",
    "plt.hist(pvalpost, np.linspace(0, 1, 20), density=True)\n",
    "plt.plot(xpval, ypval, '--')\n",
    "plt.title(r'p-value (post-fit)')\n",
    "\n",
    "plt.tight_layout()\n",
    "plt.show()"
   ]
  },
  {
   "cell_type": "markdown",
   "metadata": {},
   "source": [
    "**Comments:**\n",
    "* The $\\chi^2$ distributions do follow the expected distributions, as reflected in the fact that the p-value distributions are uniform.\n",
    "* In particular, the \"pre-fit\" $\\chi^2$ (using true values of the parameters) follows a $\\chi^2$ law with **6** degrees of freedom (6 data points), while the \"post-fit\" one (using estimated parameters) follows a $\\chi^2$ law with **4** degrees of freedom (6 data points - 2 parameters).\n",
    "* Both p-value distributions (\"pre-fit\" and \"post-fit\") are flat because we have used the correct number of degrees of freedom to estimate them. If we would have used 6 dof in the \"post-fit\" case, for instance (see below), the \"p-value\" would not have been flat, showing that the data do not correspond to the hypothesis that we are testing (i.e. a $\\chi^2$ with 6 degrees of freedom, since in reality there are only 4)."
   ]
  },
  {
   "cell_type": "code",
   "execution_count": 11,
   "metadata": {},
   "outputs": [
    {
     "data": {
      "image/png": "[encoded data removed]",
      "text/plain": [
       "<Figure size 432x288 with 2 Axes>"
      ]
     },
     "metadata": {
      "needs_background": "light"
     },
     "output_type": "display_data"
    }
   ],
   "source": [
    "pvalpost_4dof = chi2prob(chi2post, len(xx0)) # wrong number of dof here!\n",
    "\n",
    "# plotting\n",
    "plt.subplot(121)\n",
    "plt.hist(chi2post, np.linspace(0, 20, 20), density=True)\n",
    "plt.plot(xchi2, ychi2_pre, '--', label=r'$\\chi^2$ (6 dof)')\n",
    "plt.title(r'$\\chi^2$ (post-fit, wrong ndof)')\n",
    "plt.legend()\n",
    "\n",
    "plt.subplot(122)\n",
    "plt.hist(pvalpost_4dof, np.linspace(0, 1, 20), density=True)\n",
    "plt.plot(xpval, ypval, '--')\n",
    "plt.title(r'p-value (post-fit, wrong ndof)')\n",
    "\n",
    "plt.tight_layout()\n",
    "plt.show()"
   ]
  },
  {
   "cell_type": "code",
   "execution_count": null,
   "metadata": {},
   "outputs": [],
   "source": []
  }
 ],
 "metadata": {
  "kernelspec": {
   "display_name": "Python 3",
   "language": "python",
   "name": "python3"
  },
  "language_info": {
   "codemirror_mode": {
    "name": "ipython",
    "version": 3
   },
   "file_extension": ".py",
   "mimetype": "text/x-python",
   "name": "python",
   "nbconvert_exporter": "python",
   "pygments_lexer": "ipython3",
   "version": "3.5.2"
  }
 },
 "nbformat": 4,
 "nbformat_minor": 2
}

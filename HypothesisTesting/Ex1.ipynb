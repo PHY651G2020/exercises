{
 "cells": [
  {
   "cell_type": "markdown",
   "metadata": {},
   "source": [
    "# Exercise 1"
   ]
  },
  {
   "cell_type": "code",
   "execution_count": 1,
   "metadata": {},
   "outputs": [],
   "source": [
    "# imports\n",
    "\n",
    "import numpy as np\n",
    "import matplotlib.pyplot as plt"
   ]
  },
  {
   "cell_type": "markdown",
   "metadata": {},
   "source": [
    "## 1. Test statistic\n",
    "\n",
    "The test statistic for the Neyman-Pearson test is the log-likelihood ratio:\n",
    "\n",
    "$$t = -2 \\ln \\frac{\\mathcal{L} (x | H_1)}{\\mathcal{L} (x | H_0)}$$\n",
    "\n",
    "$$t = \\sum_i (x_i - \\mu_1)^2 - (x_i - \\mu_0)^2$$\n",
    "\n",
    "where $\\mu_0 = 1$ and $\\mu_1 = 1.5$ (and we have omitted $\\sigma$ since $\\sigma = 1$).\n",
    "\n",
    "$$t = \\sum_i 2 (\\mu_0 - \\mu_1) x_i + \\mu_1^2 - \\mu_0^2$$\n",
    "\n",
    "$t$ follows a normal law of mean $\\mu_t = N \\times(2 \\mu (\\mu_0-\\mu_1) + \\mu_1^2 - \\mu_0^2)$ and standard deviation $\\sigma_t = \\sigma \\times \\sqrt{N} \\times 2 |\\mu_0 - \\mu_1| = \\sqrt{N}$"
   ]
  },
  {
   "cell_type": "code",
   "execution_count": 2,
   "metadata": {},
   "outputs": [],
   "source": [
    "def teststat(x, mu0, mu1):\n",
    "    \"\"\"\n",
    "    define the test statistic: -2ln(L(H1)/L(H0))\n",
    "    \"\"\"\n",
    "    t = sum([(xi-mu1)**2 - (xi-mu0)**2 for xi in x])\n",
    "    return t"
   ]
  },
  {
   "cell_type": "markdown",
   "metadata": {},
   "source": [
    "## 2. Test statistic distributions"
   ]
  },
  {
   "cell_type": "code",
   "execution_count": 3,
   "metadata": {},
   "outputs": [],
   "source": [
    "def ts_dist(N, mu0, mu1, mutest, Ntoys):\n",
    "    \"\"\"\n",
    "    Sample the test statistic under a given hypothesis.\n",
    "    Return a list of values.\n",
    "    \n",
    "    Parameters:\n",
    "    * N: number of measurements\n",
    "    * mu0, mu1: hypotheses considered (parameters of the test statistic)\n",
    "    * mutest: mu to be used to throw toys (mu=mu0 or mu=mu1)\n",
    "    * Ntoys: number of times to sample the test statistic\n",
    "    \"\"\"\n",
    "    dist = []\n",
    "    for i in range(Ntoys):\n",
    "        x = np.random.normal(mutest, 1, N)\n",
    "        dist.append(teststat(x, mu0, mu1))\n",
    "    \n",
    "    return dist"
   ]
  },
  {
   "cell_type": "code",
   "execution_count": 4,
   "metadata": {
    "scrolled": false
   },
   "outputs": [
    {
     "data": {
      "image/png": "[encoded data removed]",
      "text/plain": [
       "<Figure size 432x288 with 1 Axes>"
      ]
     },
     "metadata": {
      "needs_background": "light"
     },
     "output_type": "display_data"
    },
    {
     "name": "stdout",
     "output_type": "stream",
     "text": [
      "test stat distribution for H0 (mu0 = 1): mean = 6.248066075071048, std. dev. = 4.967351584754775\n",
      "test stat distribution for H1 (mu1 = 1.5): mean = -6.229875926555265, std. dev. = 4.994210936818228\n"
     ]
    }
   ],
   "source": [
    "# parameters\n",
    "N = 25\n",
    "Ntoys = 40000\n",
    "mu0 = 1\n",
    "mu1 = 1.5\n",
    "\n",
    "dist_H0 = ts_dist(N, mu0, mu1, mu0, Ntoys)\n",
    "dist_H1 = ts_dist(N, mu0, mu1, mu1, Ntoys)\n",
    "\n",
    "# also draw the analytic distributions\n",
    "from scipy.stats import norm\n",
    "tvals = np.linspace(-25,25,1000)\n",
    "mu_t0 = N*(mu0-mu1)**2\n",
    "mu_t1 = -N*(mu0-mu1)**2\n",
    "sigma_t = np.sqrt(N)\n",
    "dist_H0_a = norm.pdf(tvals, mu_t0, sigma_t)\n",
    "dist_H1_a = norm.pdf(tvals, mu_t1, sigma_t)\n",
    "\n",
    "fig, ax = plt.subplots()\n",
    "# t distributions sampled using toys\n",
    "ax.hist(dist_H0, bins=50, density=True, color='r', label='H0', alpha=0.8)\n",
    "ax.hist(dist_H1, bins=50, density=True, color='b', label='H1', alpha=0.8)\n",
    "# analytic pdf\n",
    "ax.plot(tvals, dist_H0_a, color='r')\n",
    "ax.plot(tvals, dist_H1_a, color='b')\n",
    "\n",
    "ax.set_xlabel('t')\n",
    "ax.set_title(r'Distributions for $N = {}$, $\\mu_0 = {}$, $\\mu_1 = {}$'.format(N, mu0, mu1))\n",
    "ax.legend()\n",
    "plt.show()\n",
    "print(\"test stat distribution for H0 (mu0 = {}): mean = {}, std. dev. = {}\".format(\n",
    "    mu0, np.mean(dist_H0), np.std(dist_H0)\n",
    "))\n",
    "print(\"test stat distribution for H1 (mu1 = {}): mean = {}, std. dev. = {}\".format(\n",
    "    mu1, np.mean(dist_H1), np.std(dist_H1)\n",
    "))"
   ]
  },
  {
   "cell_type": "markdown",
   "metadata": {},
   "source": [
    "## 3. Critical region\n",
    "\n",
    "Critical region: \n",
    "\n",
    "$$\\int_w f(t | H_0) dt = \\alpha$$\n",
    "\n",
    "$$\\int_w G(t; \\mu_{t,0}, \\sigma_t) dt = \\alpha$$\n",
    "\n",
    "$$w = ]-\\infty, N (\\mu_0-\\mu_1)^2 + \\sqrt{N} \\times \\Phi^{-1}(\\alpha)]$$\n",
    "\n",
    "where $\\Phi^{-1}$ is the inverse of the c.d.f. of the normal distribution.\n",
    "\n",
    "$$\\beta = \\int_{\\Omega - w} f(t | H_1) dt$$\n",
    "\n",
    "$$\\beta = 1 - \\Phi\\left(\\frac{w_\\text{max} - \\mu_{t,1}}{\\sigma_t}\\right)$$"
   ]
  },
  {
   "cell_type": "code",
   "execution_count": 5,
   "metadata": {},
   "outputs": [
    {
     "name": "stdout",
     "output_type": "stream",
     "text": [
      "Analytically: for N = 25, alpha = 0.05\n",
      "The critical region is ]-infty, -1.9742681347573612]\n",
      "The power of the test is beta = 0.1962350599845062\n"
     ]
    }
   ],
   "source": [
    "# Analytically\n",
    "from scipy.special import erf,erfinv\n",
    "\n",
    "mu0 = 1\n",
    "mu1 = 1.5\n",
    "N = 25\n",
    "alpha = 0.05\n",
    "\n",
    "# correspondance between Normal cdf Phi and error function\n",
    "def norm_Phi(x):\n",
    "    return 0.5 * (1 + erf(x/np.sqrt(2)))\n",
    "def norm_Phi_inv(x):\n",
    "    return - np.sqrt(2) * erfinv(1 - 2*x)\n",
    "\n",
    "# define functions to compute the critical region and the power of the test\n",
    "def critical_region(N, mu0, mu1, alpha):    \n",
    "    mu_t0 = N*(mu0-mu1)**2\n",
    "    sigma_t = np.sqrt(N)\n",
    "    wmax = mu_t0 + sigma_t * norm_Phi_inv(alpha)\n",
    "    return wmax\n",
    "\n",
    "def power_test(N, mu0, mu1, alpha):\n",
    "    mu_t1 = -N*(mu0-mu1)**2\n",
    "    sigma_t = np.sqrt(N)\n",
    "    wmax = critical_region(N, mu0, mu1, alpha)\n",
    "    beta = 1 - norm_Phi((wmax-mu_t1) / sigma_t)\n",
    "    return beta\n",
    "\n",
    "wmax = critical_region(N, mu0, mu1, alpha)\n",
    "beta = power_test(N, mu0, mu1, alpha)\n",
    "print(\"Analytically: for N = {}, alpha = {}\".format(N, alpha))\n",
    "print(\"The critical region is ]-infty, {}]\".format(wmax))\n",
    "print(\"The power of the test is beta = {}\".format(beta))"
   ]
  },
  {
   "cell_type": "code",
   "execution_count": 6,
   "metadata": {},
   "outputs": [
    {
     "name": "stdout",
     "output_type": "stream",
     "text": [
      "Numerically: for N = 25, alpha = 0.05\n",
      "The critical region is ]-infty, -1.9711494442067632]\n",
      "The power of the test is beta = 0.19705\n"
     ]
    }
   ],
   "source": [
    "# numerically\n",
    "alpha=0.05\n",
    "wmax=np.quantile(dist_H0, alpha)\n",
    "beta=len([t for t in dist_H1 if t>wmax]) / len(dist_H1)\n",
    "print(\"Numerically: for N = {}, alpha = {}\".format(N, alpha))\n",
    "print(\"The critical region is ]-infty, {}]\".format(wmax))\n",
    "print(\"The power of the test is beta = {}\".format(beta))"
   ]
  },
  {
   "cell_type": "markdown",
   "metadata": {},
   "source": [
    "## 4. ROC curve\n",
    "\n",
    "We want the ROC curve: this is 1-alpha as a function of 1-beta."
   ]
  },
  {
   "cell_type": "code",
   "execution_count": 7,
   "metadata": {},
   "outputs": [
    {
     "data": {
      "image/png": "[encoded data removed]",
      "text/plain": [
       "<Figure size 432x288 with 1 Axes>"
      ]
     },
     "metadata": {
      "needs_background": "light"
     },
     "output_type": "display_data"
    }
   ],
   "source": [
    "N = 25\n",
    "\n",
    "# (re-)build the distributions if needed\n",
    "#dist_H0 = ts_dist(N, mu0, mu1, mu0, Ntoys)\n",
    "#dist_H1 = ts_dist(N, mu0, mu1, mu1, Ntoys)\n",
    "\n",
    "# arrays initialisation\n",
    "# ROC curve from toys\n",
    "alphas = np.linspace(0,1,100)\n",
    "xx = []\n",
    "yy = []\n",
    "# ROC curve from analytic calculation\n",
    "xx_a = []\n",
    "\n",
    "# loop\n",
    "for alpha in alphas:\n",
    "    # analytic\n",
    "    wmax_a = critical_region(N, mu0, mu1, alpha)\n",
    "    beta_a = power_test(N, mu0, mu1, alpha)\n",
    "    \n",
    "    # with toys\n",
    "    wmax = np.quantile(dist_H0, alpha)\n",
    "    beta = len([t for t in dist_H1 if t>wmax]) / len(dist_H1)\n",
    "    \n",
    "    xx.append(1-beta)\n",
    "    yy.append(1-alpha)\n",
    "    xx_a.append(1-beta_a)\n",
    "    \n",
    "# draw the ROC curve\n",
    "fig, ax = plt.subplots()\n",
    "ax.plot(xx, yy, label='Toys')\n",
    "ax.plot(xx_a, yy, label='Analytic')\n",
    "ax.set_xlabel(r'$1-\\beta$')\n",
    "ax.set_ylabel(r'$1-\\alpha$')\n",
    "ax.set_title(r'ROC curve for $N = {}$'.format(N))\n",
    "ax.legend()\n",
    "plt.show()"
   ]
  },
  {
   "cell_type": "markdown",
   "metadata": {},
   "source": [
    "## 5. Minimum required sample size to have a contamination smaller than 0.1"
   ]
  },
  {
   "cell_type": "code",
   "execution_count": 8,
   "metadata": {},
   "outputs": [
    {
     "name": "stdout",
     "output_type": "stream",
     "text": [
      "The contamination for N = 35 is beta = 0.09456009558759604\n"
     ]
    }
   ],
   "source": [
    "# Analytically\n",
    "N = 25\n",
    "alpha = 0.05\n",
    "beta_target = 0.1\n",
    "\n",
    "beta = power_test(N, mu0, mu1, alpha)\n",
    "while beta > beta_target:\n",
    "    N = N+1\n",
    "    beta = power_test(N, mu0, mu1, alpha)\n",
    "\n",
    "print(\"The contamination for N = {} is beta = {}\".format(N, beta))"
   ]
  },
  {
   "cell_type": "code",
   "execution_count": 9,
   "metadata": {},
   "outputs": [
    {
     "name": "stdout",
     "output_type": "stream",
     "text": [
      "The contamination for N = 35 is beta = 0.09475\n"
     ]
    }
   ],
   "source": [
    "# numerically\n",
    "N = 25\n",
    "beta_target = 0.1\n",
    "\n",
    "wmax=np.quantile(dist_H0, alpha)\n",
    "beta=len([t for t in dist_H1 if t>wmax]) / len(dist_H1)\n",
    "while beta > beta_target:\n",
    "    N = N+1\n",
    "    dist_H0 = ts_dist(N, mu0, mu1, mu0, Ntoys)\n",
    "    dist_H1 = ts_dist(N, mu0, mu1, mu1, Ntoys)\n",
    "    wmax=np.quantile(dist_H0, alpha)\n",
    "    beta=len([t for t in dist_H1 if t>wmax]) / len(dist_H1)\n",
    "\n",
    "print(\"The contamination for N = {} is beta = {}\".format(N, beta))"
   ]
  },
  {
   "cell_type": "code",
   "execution_count": null,
   "metadata": {},
   "outputs": [],
   "source": []
  }
 ],
 "metadata": {
  "kernelspec": {
   "display_name": "Python 3",
   "language": "python",
   "name": "python3"
  },
  "language_info": {
   "codemirror_mode": {
    "name": "ipython",
    "version": 3
   },
   "file_extension": ".py",
   "mimetype": "text/x-python",
   "name": "python",
   "nbconvert_exporter": "python",
   "pygments_lexer": "ipython3",
   "version": "3.5.2"
  }
 },
 "nbformat": 4,
 "nbformat_minor": 2
}

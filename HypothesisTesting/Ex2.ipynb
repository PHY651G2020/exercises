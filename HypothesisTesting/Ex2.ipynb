{
 "cells": [
  {
   "cell_type": "markdown",
   "metadata": {},
   "source": [
    "# 2. Poisson process with unknown background: limits and p-values"
   ]
  },
  {
   "cell_type": "code",
   "execution_count": 1,
   "metadata": {},
   "outputs": [],
   "source": [
    "from scipy import optimize\n",
    "from scipy.special import gamma\n",
    "import numpy as np\n",
    "import matplotlib.pyplot as plt"
   ]
  },
  {
   "cell_type": "markdown",
   "metadata": {},
   "source": [
    "## 0. Repeat from point estimation"
   ]
  },
  {
   "cell_type": "code",
   "execution_count": 2,
   "metadata": {},
   "outputs": [],
   "source": [
    "# Poisson pdf\n",
    "def poisson(n, mu):\n",
    "    if type(n) == int:\n",
    "        ans = pow(mu,n) * np.exp(-mu) / np.math.factorial(n)\n",
    "    else:\n",
    "        # if n is not integer (we will need it for Asimov), use the generalised expression\n",
    "        if n < 0:\n",
    "            ans = 0\n",
    "        else:\n",
    "            ans = n*np.log(mu)-mu-np.log(gamma(n+1.))\n",
    "            ans = np.exp(ans)\n",
    "    return ans\n",
    "# likelihood\n",
    "def lh(D, Q, s, b, k):\n",
    "    # protection to stay within physical range\n",
    "    if (D<=0 or Q<=0 or s+b<0 or b*k<0):\n",
    "        return 0\n",
    "    return poisson(D,s+b)*poisson(Q,b*k)\n",
    "\n",
    "# -2 * log(likelihood)\n",
    "def lnlh(D, Q, s, b, k):\n",
    "    l = lh(D, Q, s, b, k)\n",
    "    if (l<=0):\n",
    "        return 1e99\n",
    "    return -2*np.log(l)\n",
    "\n",
    "# the following \"wrappers\" are need to call scipy.optimize.fmin\n",
    "#   whichwhich minimises a function w.r.t. its first parameter\n",
    "# likelihood as a function of b (s is a parameter)\n",
    "def lh_b(x,*args):\n",
    "    b = x[0]\n",
    "    s = args[3]\n",
    "    D = args[0]\n",
    "    Q = args[1]\n",
    "    k = args[2]\n",
    "    return lh(D,Q,s,b,k)\n",
    "\n",
    "# -2 * log(likelihood) as a function of b (s is a parameter)\n",
    "def lnlh_b(x,*args):\n",
    "    b = x[0]\n",
    "    s = args[3]\n",
    "    D = args[0]\n",
    "    Q = args[1]\n",
    "    k = args[2]\n",
    "    return lnlh(D,Q,s,b,k)"
   ]
  },
  {
   "cell_type": "code",
   "execution_count": 3,
   "metadata": {},
   "outputs": [],
   "source": [
    "# definitions\n",
    "D = 13\n",
    "B = 2.6\n",
    "dB = 0.7\n",
    "# derived quantities\n",
    "Q = int((B/dB)**2)\n",
    "k = B/(dB**2)\n",
    "\n",
    "# global minimum\n",
    "bhat = B\n",
    "shat = D-B\n",
    "lhmax = lh(D,Q,shat,bhat,k)\n",
    "lnlhmin = lnlh(D,Q,shat,bhat,k)\n",
    "\n",
    "# keep bhathat(s) for reference\n",
    "s = 1\n",
    "bhathat = optimize.fmin(lnlh_b,bhat,args=(D,Q,k,s),disp=False)"
   ]
  },
  {
   "cell_type": "markdown",
   "metadata": {},
   "source": [
    "## 1. p-value against background-only hypothesis"
   ]
  },
  {
   "cell_type": "code",
   "execution_count": 4,
   "metadata": {
    "scrolled": true
   },
   "outputs": [],
   "source": [
    "ntoys = 10000\n",
    "\n",
    "# here we adapt D and s0, so that we don't have to throw too many toys\n",
    "D = 8\n",
    "stoys = 4.3\n",
    "\n",
    "# the value of the parameter s in the test statistic evaluation\n",
    "stest = 0\n",
    "\n",
    "def dist_teststat(s, st, ntoys):\n",
    "    \"\"\"\n",
    "    Sample the test statistic distribution q(s), throwing toys from the value provided st.\n",
    "    \"\"\"\n",
    "    ans = []\n",
    "    for itoy in range(ntoys):\n",
    "        # for each toy, we need to generate values of Q, B, and D\n",
    "        # we call them Qt, Bt, Dt (t for toy)\n",
    "        Qt = np.random.poisson(B*k)\n",
    "        Bt = Qt/k\n",
    "        Dt = np.random.poisson(st+Bt)\n",
    "\n",
    "        # we use them to get the MLE for s: shat_t\n",
    "        shat_t = Dt-Bt\n",
    "\n",
    "        # denominator of q\n",
    "        lht_den = lh(Dt,Qt,shat_t,Bt,k)\n",
    "\n",
    "        # numerator of q\n",
    "        bhathat_t = optimize.fmin(lnlh_b,Bt,args=(Dt,Qt,k,s),disp=False)\n",
    "        bhathat_t = bhathat_t[0]\n",
    "        lht_num = lh(Dt,Qt,s,bhathat_t,k)\n",
    "\n",
    "        # compute q itself\n",
    "        q = -2*np.log(lht_num/lht_den) if lht_den>0 else 0\n",
    "\n",
    "        # set q to 0 when the MLE for s is negative\n",
    "        if (shat_t<0):\n",
    "            q = 0\n",
    "\n",
    "        # store the test statistic value\n",
    "        ans.append(q)\n",
    "    return ans"
   ]
  },
  {
   "cell_type": "code",
   "execution_count": 5,
   "metadata": {},
   "outputs": [
    {
     "name": "stdout",
     "output_type": "stream",
     "text": [
      "Test statistic value in data: 5.996464227774317\n"
     ]
    }
   ],
   "source": [
    "# s+b\n",
    "teststat_sb = dist_teststat(stest, stoys, ntoys)\n",
    "\n",
    "# b only\n",
    "teststat_b = dist_teststat(stest, 0, ntoys)\n",
    "\n",
    "# value in data\n",
    "bhathat_data = optimize.fmin(lnlh_b,B,args=(D,Q,k,stest),disp=False)\n",
    "bhathat_data = bhathat_data[0]\n",
    "bhat = B\n",
    "shat = D-B\n",
    "lhmax = lh(D,Q,shat,bhat,k)\n",
    "qdata = -2*np.log(lh(D,Q,stest,bhathat_data,k)/lhmax)\n",
    "print('Test statistic value in data:', qdata)"
   ]
  },
  {
   "cell_type": "code",
   "execution_count": 6,
   "metadata": {},
   "outputs": [
    {
     "data": {
      "image/png": "[encoded data removed]",
      "text/plain": [
       "<Figure size 432x288 with 1 Axes>"
      ]
     },
     "metadata": {
      "needs_background": "light"
     },
     "output_type": "display_data"
    }
   ],
   "source": [
    "# draw the distribution\n",
    "bins = np.linspace(0, 20, 40)\n",
    "fig, ax = plt.subplots()\n",
    "ax.hist(teststat_sb, bins, label='s+b (s={})'.format(stoys), density=True, color='red', alpha=0.7)\n",
    "ax.hist(teststat_b, bins, label='b only', density=True, color='blue', alpha=0.7)\n",
    "# draw a line where the data value is\n",
    "xl = [qdata, qdata]\n",
    "yl = [0, 1]\n",
    "ax.plot(xl, yl, label='Data (D={})'.format(D), color='black')\n",
    "ax.set_xlabel('$q_0$')\n",
    "ax.set_ylabel('Density')\n",
    "ax.set_yscale('log')\n",
    "ax.legend()\n",
    "plt.show()"
   ]
  },
  {
   "cell_type": "code",
   "execution_count": 7,
   "metadata": {},
   "outputs": [],
   "source": [
    "# define some functions which will be useful for playing with p-values\n",
    "\n",
    "from scipy.special import erfinv\n",
    "\n",
    "def pval(dist, val):\n",
    "    \"\"\"\n",
    "    Returns the p-value corresponding to the value val of the test statistic,\n",
    "    given it distribution dist provided as an array\n",
    "    \"\"\"\n",
    "    return len([x for x in dist if x > val]) / len(dist)\n",
    "\n",
    "def norm_Phi_inv(x):\n",
    "    \"\"\"\n",
    "    relating the inverse of the Phi, the cdf of the normal distribution,\n",
    "    with that of the error function\n",
    "    \"\"\"\n",
    "    return np.sqrt(2) * erfinv(2*x - 1)\n",
    "\n",
    "def zval_1sided(pval):\n",
    "    \"\"\"\n",
    "    Returns the 1-sided z-value (number of Gaussian sigmas) \n",
    "    corresponding to the p-value provided\n",
    "    \"\"\"\n",
    "    return norm_Phi_inv(1-pval/2)"
   ]
  },
  {
   "cell_type": "code",
   "execution_count": 8,
   "metadata": {},
   "outputs": [
    {
     "name": "stdout",
     "output_type": "stream",
     "text": [
      "observed p-value: 0.0029\n",
      "observed z-value: 2.978143684422971\n"
     ]
    }
   ],
   "source": [
    "# observed p-value and corresponding z-value\n",
    "pval_obs = pval(teststat_b,qdata)\n",
    "zval_obs = zval_1sided(pval_obs)\n",
    "print (\"observed p-value:\", pval_obs)\n",
    "print (\"observed z-value:\", zval_obs)"
   ]
  },
  {
   "cell_type": "code",
   "execution_count": 9,
   "metadata": {},
   "outputs": [
    {
     "name": "stdout",
     "output_type": "stream",
     "text": [
      "for s =  4.3 :\n",
      "median expected test stat: 3.8223198899130106\n",
      "expected p-value: 0.0123\n",
      "expected z-value: 2.5034185153291393\n"
     ]
    }
   ],
   "source": [
    "# median expected p-value\n",
    "qexp = np.median(teststat_sb)\n",
    "pval_exp = pval(teststat_b,qexp)\n",
    "zval_exp = zval_1sided(pval_exp)\n",
    "print (\"for s = \", stoys, \":\")\n",
    "print (\"median expected test stat:\", qexp)\n",
    "print (\"expected p-value:\", pval_exp)\n",
    "print (\"expected z-value:\", zval_exp)"
   ]
  },
  {
   "cell_type": "code",
   "execution_count": 10,
   "metadata": {},
   "outputs": [
    {
     "name": "stdout",
     "output_type": "stream",
     "text": [
      "Asimov expected test stat: 3.6958615238317414\n",
      "expected p-value: 0.0135\n",
      "expected z-value: 2.470299428362589\n"
     ]
    }
   ],
   "source": [
    "# bonus: Asimov\n",
    "# assume we observed exactly the expectation\n",
    "D_Asimov = stoys+B\n",
    "Q_Asimov = B*k\n",
    "B_Asimov = B\n",
    "bhathat_Asimov = optimize.fmin(lnlh_b,B,args=(D_Asimov,Q_Asimov,k,stest),disp=False)\n",
    "bhathat_Asimov = bhathat_Asimov[0]\n",
    "shat_Asimov = D_Asimov-B_Asimov\n",
    "qAsimov = -2*np.log(lh(D_Asimov,Q_Asimov,stest,bhathat_Asimov,k)/lhmax)\n",
    "if (shat_Asimov<0):\n",
    "    qAsimov = 0\n",
    "pval_Asimov = pval(teststat_b,qAsimov)\n",
    "zval_Asimov = zval_1sided(pval_Asimov)\n",
    "print (\"Asimov expected test stat:\", qAsimov)\n",
    "print (\"expected p-value:\", pval_Asimov)\n",
    "print (\"expected z-value:\", zval_Asimov)"
   ]
  },
  {
   "cell_type": "markdown",
   "metadata": {},
   "source": [
    "**Comment:** the \"Asimov\" dataset indeed gives roughly the same answer as the median from the distribution of the test-statistic in the s+b hypothesis. Small differences are expected since we are not dealing with that large a number of events: the Asimov dataset relies on the asymptotic aproximation."
   ]
  },
  {
   "cell_type": "code",
   "execution_count": 11,
   "metadata": {},
   "outputs": [
    {
     "name": "stdout",
     "output_type": "stream",
     "text": [
      "\n",
      "for observed values, shat =  5.4  and bhat =  2.6 :\n",
      "s/sqrt(b) =  3.348937833908628\n"
     ]
    }
   ],
   "source": [
    "# s/sqrt(b)\n",
    "bhat = B\n",
    "shat = D-B\n",
    "print (\"\\nfor observed values, shat = \", shat, \" and bhat = \", bhat, \":\")\n",
    "print (\"s/sqrt(b) = \", shat/np.sqrt(bhat))"
   ]
  },
  {
   "cell_type": "markdown",
   "metadata": {},
   "source": [
    "**Comment:** This is not far from what we got for the observed p-value, but a bit larger. This is because this simple formula, $s / \\sqrt{b}$, is only valid for large numbers of events. It tends to over-estimate the p-value (\"significance\") for small numbers of events."
   ]
  },
  {
   "cell_type": "markdown",
   "metadata": {},
   "source": [
    "## 2. Hypothesis test inversion"
   ]
  },
  {
   "cell_type": "code",
   "execution_count": 12,
   "metadata": {},
   "outputs": [],
   "source": [
    "# compute the observed CLsb for several values of s\n",
    "ntoys=1000\n",
    "array_s = np.arange(5,17,1)\n",
    "array_CLsb_obs = []\n",
    "\n",
    "# back to the published numbers\n",
    "D = 13\n",
    "s0 = 7.3\n",
    "bhat = B\n",
    "shat = D-B\n",
    "lhmax = lh(D,Q,shat,bhat,k)\n",
    "lnlhmin = lnlh(D,Q,shat,bhat,k)\n",
    "\n",
    "for stest in array_s:\n",
    "    # get the expected distribution for the test statistic (expected for s=stest)\n",
    "    teststat_sb = dist_teststat(stest, stest, ntoys)\n",
    "    \n",
    "    # value in data\n",
    "    bhathat_data = optimize.fmin(lnlh_b,B,args=(D,Q,k,stest),disp=False)\n",
    "    bhathat_data[0]\n",
    "    qdata = -2*np.log(lh(D,Q,stest,bhathat_data,k)/lhmax)\n",
    "    CLsb_obs = pval(teststat_sb,qdata)\n",
    "    \n",
    "    array_CLsb_obs.append(CLsb_obs)"
   ]
  },
  {
   "cell_type": "code",
   "execution_count": 13,
   "metadata": {},
   "outputs": [
    {
     "data": {
      "image/png": "[encoded data removed]",
      "text/plain": [
       "<Figure size 432x288 with 1 Axes>"
      ]
     },
     "metadata": {
      "needs_background": "light"
     },
     "output_type": "display_data"
    }
   ],
   "source": [
    "# draw results\n",
    "# 68% CL\n",
    "alpha = 1-0.68\n",
    "\n",
    "fig, ax = plt.subplots()\n",
    "ax.plot(array_s, array_CLsb_obs, label='CL$_{s+b}$')\n",
    "ax.plot([array_s[0], array_s[-1]], [alpha, alpha], linestyle='--')\n",
    "ax.set_xlabel('s')\n",
    "ax.set_ylabel('p-value')\n",
    "ax.legend()\n",
    "plt.show()"
   ]
  },
  {
   "cell_type": "markdown",
   "metadata": {},
   "source": [
    "The interval can be read as the region where the p-value for the signal+background hypothesis, using $q(s)$ as a test statistic (blue line), is above alpha (1 - CL, orange line)."
   ]
  },
  {
   "cell_type": "code",
   "execution_count": 14,
   "metadata": {},
   "outputs": [
    {
     "name": "stdout",
     "output_type": "stream",
     "text": [
      "The 68.0% CL interval is [7.141992187500003, 14.65958251953125]\n"
     ]
    }
   ],
   "source": [
    "# 68% CL interval from hypothesis testing inversion\n",
    "# let's find the s values for which the p-value is equal to alpha\n",
    "\n",
    "alpha = 1-0.68\n",
    "\n",
    "# do the interpolation between the few s points that we have,\n",
    "# in order to obtain a continuous function\n",
    "from scipy import interpolate\n",
    "CLsb = interpolate.interp1d(array_s, array_CLsb_obs)\n",
    "\n",
    "# we can define a function |p-value(s) - alpha| and find its roots (or minimize it)\n",
    "def dCLsb(s,alpha):\n",
    "    return abs(CLsb(s)-alpha)\n",
    "\n",
    "# there are two roots (two minima) to this dCLsb function, which we find by starting\n",
    "# from below the first one (e.g. 6) or above the second one (e.g. 14)\n",
    "s_low = optimize.fmin(dCLsb,6,args=(alpha,),disp=False)\n",
    "s_high = optimize.fmin(dCLsb,14,args=(alpha,),disp=False)\n",
    "print(\"The {}% CL interval is [{}, {}]\".format(100*(1-alpha), s_low[0], s_high[0]))"
   ]
  },
  {
   "cell_type": "code",
   "execution_count": 15,
   "metadata": {},
   "outputs": [
    {
     "name": "stdout",
     "output_type": "stream",
     "text": [
      "68% C.L. (2 Delta ln L = 1) profile likelihood interval: [7.119411914348605, 14.64866657063365]\n"
     ]
    }
   ],
   "source": [
    "# for comparison: profile likelihood interval\n",
    "# the contents of this cell is taken from the answers to the exercise on point and interval estimation.\n",
    "\n",
    "# arrays for plotting\n",
    "s_vals = []\n",
    "proflh_vals = []\n",
    "\n",
    "# global minimum\n",
    "bhat = B\n",
    "shat = D-B\n",
    "lhmax = lh(D,Q,shat,bhat,k)\n",
    "lnlhmin = lnlh(D,Q,shat,bhat,k)\n",
    "\n",
    "# fill the arrays\n",
    "ds = 0.1\n",
    "for i_s in range(1,200):\n",
    "    s = i_s * ds\n",
    "    bhathat = optimize.fmin(lnlh_b,bhat,args=(D,Q,k,s),disp=False)\n",
    "    bhathat = bhathat[0]\n",
    "    s_vals.append(s)\n",
    "    proflh_vals.append(lnlh(D,Q,s,bhathat,k)-lnlhmin)\n",
    "\n",
    "# build a continuous profile likelihood function by interpolating between the values we have computed\n",
    "proflh = interpolate.interp1d(s_vals, proflh_vals)\n",
    "\n",
    "def dproflh(s):\n",
    "    return abs(proflh(s)-1)\n",
    "\n",
    "s_low_proflh = optimize.fmin(dproflh,s_low,disp=False)\n",
    "s_low_proflh = s_low_proflh[0]\n",
    "s_high_proflh = optimize.fmin(dproflh,s_high,disp=False)\n",
    "s_high_proflh = s_high_proflh[0]\n",
    "\n",
    "print (\"68% C.L. (2 Delta ln L = 1) profile likelihood interval: [{}, {}]\".format(s_low_proflh,s_high_proflh))"
   ]
  },
  {
   "cell_type": "markdown",
   "metadata": {},
   "source": [
    "Comment: as expected, they are basically the same! They both correspond to the Feldman-Cousins interval (with likelihood ratio ordering), except that the hypothesis test inversion required us to sample the test statistic distribution and only test few values of s, and hence is less precise."
   ]
  },
  {
   "cell_type": "markdown",
   "metadata": {},
   "source": [
    "# 3. Figures of merit\n",
    "## Where does $s/\\sqrt{b}$ come from, and what does it mean?\n",
    "In the limit where $s$ and $b$ are large, the data $D$ approximately follow a Gaussian law with mean $s+b$ and standard deviation $\\sqrt{s+b}$. The p-value under the background-only hypothesis ($s=0$) is then the probability to find $D$ greater or equal than the value observed:\n",
    "$$p_0 = 1- \\Phi\\left( \\frac{D-b}{\\sqrt{b}} \\right)$$\n",
    "The corresponding significance is $Z_0 = \\Phi^{-1}(1-p_0) = (D-b) / \\sqrt{b}$. For given observed values $D$ and $B$, injecting $\\hat{b} = B$ and $\\hat{s} = D-B$, one then gets\n",
    "$$Z_0 = \\hat{s} / \\sqrt{\\hat{b}}$$\n",
    "\n",
    "**$s/\\sqrt{b}$ corresponds asymptotically to the p-value under the background-only hypothesis, when $b$ is large. It is the figure of merit to be optimised for observation.**"
   ]
  },
  {
   "cell_type": "markdown",
   "metadata": {},
   "source": [
    "## Where does $s/\\sqrt{s+b}$ come from, and what does it mean?\n",
    "Sometimes another \"figure of merit\" (simple formula) is used: $s/\\sqrt{s+b}$. When should it be used?\n",
    "\n",
    "Let's start now from signal+background hypothesis. We measure again $D$ events, and assume large $s$ and $b$, such that $D$ follows a Gaussian with mean $s+b$ and standard deviation $\\sqrt{s+b}$. In addition, we now assume $b$ to be perfectly known. The MLE for $s$ is $\\hat{s} = D-b$, and its variance is $V(\\hat{s}) = V(D) = s+b$.  The \"relative precision\" of the measurement is then:\n",
    "$$\\frac{\\sigma(\\hat{s})}{\\hat{s}} = \\frac{\\sqrt{\\hat{s}+b}}{\\hat{s}}$$\n",
    "\n",
    "**$s/\\sqrt{s+b}$ is the inverse of the relative precision of $\\hat{s}$ (\"how many Gaussian sigmas $\\hat{s}$ is away from 0\"). It is the figure of merit to be optimised for the precision of a measurement, or for upper limits.**"
   ]
  },
  {
   "cell_type": "code",
   "execution_count": null,
   "metadata": {},
   "outputs": [],
   "source": []
  }
 ],
 "metadata": {
  "kernelspec": {
   "display_name": "Python 3",
   "language": "python",
   "name": "python3"
  },
  "language_info": {
   "codemirror_mode": {
    "name": "ipython",
    "version": 3
   },
   "file_extension": ".py",
   "mimetype": "text/x-python",
   "name": "python",
   "nbconvert_exporter": "python",
   "pygments_lexer": "ipython3",
   "version": "3.5.2"
  }
 },
 "nbformat": 4,
 "nbformat_minor": 2
}

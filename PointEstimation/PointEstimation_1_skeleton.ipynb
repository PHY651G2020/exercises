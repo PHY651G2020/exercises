{
 "cells": [
  {
   "cell_type": "markdown",
   "metadata": {},
   "source": [
    "# 1. Poisson process with unknown background"
   ]
  },
  {
   "cell_type": "code",
   "execution_count": 1,
   "metadata": {},
   "outputs": [],
   "source": [
    "from scipy import optimize\n",
    "import numpy as np\n",
    "import matplotlib.pyplot as plt"
   ]
  },
  {
   "cell_type": "markdown",
   "metadata": {},
   "source": [
    "## 1. Likelihood"
   ]
  },
  {
   "cell_type": "code",
   "execution_count": 2,
   "metadata": {},
   "outputs": [],
   "source": [
    "# Poisson pdf\n",
    "def poisson(n, mu):\n",
    "    # can the following functions: pow(x,y), np.exp(x), np.math.factorial(n)\n",
    "    ans = pow(mu,n) * np.exp(-mu) / np.math.factorial(n)\n",
    "    return ans\n",
    "\n",
    "# 1. likelihood\n",
    "def lh(D, Q, s, b, k):\n",
    "    # protection to stay within physical range\n",
    "    if (D<=0 or Q<=0 or s+b<0 or b*k<0):\n",
    "        return 0\n",
    "    return poisson(D,s+b)*poisson(Q,b*k)\n",
    "\n",
    "# -2 * log(likelihood)\n",
    "def lnlh(D, Q, s, b, k):\n",
    "    l = lh(D, Q, s, b, k)\n",
    "    if (l<=0):\n",
    "        return 1e99\n",
    "    return -2*np.log(l)\n",
    "\n",
    "# the following \"wrappers\" are need to call scipy.optimize.fmin\n",
    "#   which minimises a function w.r.t. its first parameter\n",
    "# likelihood as a function of b (s is a parameter)\n",
    "def lh_b(x,*args):\n",
    "    b = x[0]\n",
    "    s = args[3]\n",
    "    D = args[0]\n",
    "    Q = args[1]\n",
    "    k = args[2]\n",
    "    return lh(D,Q,s,b,k)\n",
    "\n",
    "# -2 * log(likelihood) as a function of b (s is a parameter)\n",
    "def lnlh_b(x,*args):\n",
    "    b = x[0]\n",
    "    s = args[3]\n",
    "    D = args[0]\n",
    "    Q = args[1]\n",
    "    k = args[2]\n",
    "    return lnlh(D,Q,s,b,k)"
   ]
  },
  {
   "cell_type": "markdown",
   "metadata": {},
   "source": [
    "## 2. Draw the profile likelihood"
   ]
  },
  {
   "cell_type": "code",
   "execution_count": 3,
   "metadata": {},
   "outputs": [
    {
     "data": {
      "image/png": "[encoded data removed]",
      "text/plain": [
       "<Figure size 432x288 with 1 Axes>"
      ]
     },
     "metadata": {
      "needs_background": "light"
     },
     "output_type": "display_data"
    }
   ],
   "source": [
    "# 2. draw the profile likelihood\n",
    "\n",
    "# parameters\n",
    "D = 13\n",
    "B = 2.6\n",
    "dB = 0.7\n",
    "\n",
    "# B = 2.6 +- 0.7\n",
    "# <Q> = b*k\n",
    "# k = ? 0.7 = delta(B) = sqrt(Q)/k\n",
    "\n",
    "# derived quantities\n",
    "Q = int((B/dB)**2)\n",
    "k = B/(dB**2)\n",
    "\n",
    "# arrays for plotting:\n",
    "# scan of s values\n",
    "s_vals = np.linspace(0,20,100)\n",
    "# corresponding log(likelihood) values\n",
    "lh_vals = []\n",
    "# corresponding profile log(likelihood) values\n",
    "proflh_vals = []\n",
    "\n",
    "# global minimum (ML estimates): \\hat{b} and \\hat{s}\n",
    "bhat = B\n",
    "shat = D-B\n",
    "# maximum likelihood value\n",
    "lhmax = lh(D,Q,shat,bhat,k)\n",
    "# minimum -2*log(likelihood) value\n",
    "lnlhmin = lnlh(D,Q,shat,bhat,k)\n",
    "\n",
    "# fill the arrays\n",
    "for s in s_vals:\n",
    "    # find the MLE for b, with s fixed to a given value.\n",
    "    # you can use this minimiser: https://docs.scipy.org/doc/scipy/reference/generated/scipy.optimize.fmin.html\n",
    "    bhathat = bhathat = optimize.fmin(lnlh_b,bhat,args=(D,Q,k,s),disp=False)\n",
    "    # fmin returns a bunch of stuff. We are only interested in the value of the parameter which minimises the function.\n",
    "    bhathat = bhathat[0]\n",
    "    \n",
    "    # fill the likelihood value (with b set to the MLE bhat)\n",
    "    lh_vals.append(lnlh(D,Q,s,bhat,k)-lnlhmin)\n",
    "    \n",
    "    # fill the profile likelihood value\n",
    "    proflh_vals.append(lnlh(D,Q,s,bhathat,k)-lnlhmin)\n",
    "\n",
    "# plotting\n",
    "fix, ax = plt.subplots()\n",
    "ax.plot(s_vals, lh_vals, label='Likelihood (best fit $\\hat{b}$)')\n",
    "ax.plot(s_vals, proflh_vals, label='Profile likelihood')\n",
    "ax.set_xlabel('s')\n",
    "ax.set_ylabel('$-2 \\Delta \\ln \\mathcal{L}$')\n",
    "ax.set_ybound(0,10)\n",
    "ax.legend()\n",
    "plt.show()"
   ]
  },
  {
   "cell_type": "markdown",
   "metadata": {},
   "source": [
    "### Comments on the results:\n",
    "* The profile likelihood is \"wider\" than the likelihood with the nuisance set to its best fit value.\n",
    "* Both have the same minimum, since $\\hat{\\hat{b}} (\\hat{s}) = \\hat{b}$ (global minimum for $b$)"
   ]
  },
  {
   "cell_type": "markdown",
   "metadata": {},
   "source": [
    "## 3. Marginalisation"
   ]
  },
  {
   "cell_type": "code",
   "execution_count": null,
   "metadata": {},
   "outputs": [],
   "source": [
    "# 3. marginalisation\n",
    "\n",
    "# define priors\n",
    "def prior_flat_positive(x):\n",
    "    # a flat prior, restricted to x>0\n",
    "    ... #TODO\n",
    "\n",
    "def prior_flat(x):\n",
    "    # a flat prior defined for both positive and negative values\n",
    "    ... #TODO\n",
    "\n",
    "def prior_Jeffreys(s,b):\n",
    "    # Jeffreys prior for the Poisson mean, in the presence of background b\n",
    "    ... #TODO\n",
    "\n",
    "# define posteriors using Bayes' theorem (ignoring normalisation) \n",
    "def posterior_flatprior(D,Q,s,b,k):\n",
    "    ... #TODO\n",
    "\n",
    "def posterior_Jeffreys(D,Q,s,b,k):\n",
    "    ... #TODO\n",
    "\n",
    "def posterior_Jeffreys_b(D,Q,s,b,k):\n",
    "    ... #TODO\n",
    "\n",
    "# MCMC: Metropolis-Hastings algorithm\n",
    "# inputs: \n",
    "# - fun: function\n",
    "# - n: number of iterations\n",
    "# - D, Q, k: inputs of the problem\n",
    "# - s0, b0: starting point\n",
    "# output:\n",
    "# - (vs,bs) where vs and bs are arrays containing all the successive values for s and b\n",
    "def mcmc(fun, n, D,Q,s0,b0,k):\n",
    "    vs = [s0,]\n",
    "    vb = [b0,]\n",
    "\n",
    "    # some naive guess of what the variance of s and b could roughly be\n",
    "    sigmas = max(1,2.*np.sqrt(s0))\n",
    "    sigmab = max(1,2.*np.sqrt(b0))\n",
    "\n",
    "    for i in range(0,n):     \n",
    "        # 1. generate a value \\vec{\\theta} (= (s,b) in our case) using the proposal density q(theta, theta_0)\n",
    "        # (we can take q as a Gaussian with mean (s0,b0) and std. dev. (sigmas, sigmab))\n",
    "        # using https://numpy.org/doc/stable/reference/random/generated/numpy.random.normal.html\n",
    "        ... #TODO\n",
    "        \n",
    "        # 2. Form the Hastings test ratio\n",
    "        alpha = ...\n",
    "        \n",
    "        # 3. Generate u uniformly in [0,1]\n",
    "        # using https://numpy.org/doc/stable/reference/random/generated/numpy.random.random.html\n",
    "        u = ...\n",
    "        \n",
    "        # 4. If u <= alpha, theta1 = theta; otherwise, theta_1 = theta_0\n",
    "        \n",
    "        if (i>2000): # burn-in: ignore the first iterations\n",
    "            vs.append(s1)\n",
    "            vb.append(b1)\n",
    "        \n",
    "        # 5. Set theta_0 = theta_1 and go back to step 1\n",
    "        s0 = s1\n",
    "        b0 = b1\n",
    "\n",
    "    return (vs,vb)\n"
   ]
  },
  {
   "cell_type": "code",
   "execution_count": null,
   "metadata": {},
   "outputs": [],
   "source": [
    "# number of iterations for MCMC. 100000 takes a few seconds on an i7\n",
    "niter_mcmc = 100000"
   ]
  },
  {
   "cell_type": "code",
   "execution_count": null,
   "metadata": {},
   "outputs": [],
   "source": [
    "# 3.a flat prior\n",
    "vals_flat = mcmc(posterior_flatprior, niter_mcmc, D, Q, shat, bhat, k)\n",
    "\n",
    "# plotting\n",
    "fig, ax = plt.subplots()\n",
    "ax.plot(vals_flat[0], vals_flat[1])\n",
    "ax.set_xlabel('s')\n",
    "ax.set_ylabel('b')\n",
    "plt.show()"
   ]
  },
  {
   "cell_type": "code",
   "execution_count": null,
   "metadata": {},
   "outputs": [],
   "source": [
    "# 3.b Jeffreys prior (b=0)\n",
    "vals_Jeffreys = mcmc(posterior_Jeffreys, niter_mcmc, D, Q, shat, bhat, k)\n",
    "\n",
    "# plotting\n",
    "fig, ax = plt.subplots()\n",
    "ax.plot(vals_Jeffreys[0], vals_Jeffreys[1])\n",
    "ax.set_xlabel('s')\n",
    "ax.set_ylabel('b')\n",
    "plt.show()"
   ]
  },
  {
   "cell_type": "code",
   "execution_count": null,
   "metadata": {},
   "outputs": [],
   "source": [
    "# 3.c Jeffreys prior (b=bhat)\n",
    "vals_Jeffreys_b = mcmc(posterior_Jeffreys_b, niter_mcmc, D, Q, shat, bhat, k)\n",
    "\n",
    "# plotting\n",
    "fig, ax = plt.subplots()\n",
    "ax.plot(vals_Jeffreys_b[0], vals_Jeffreys_b[1])\n",
    "ax.set_xlabel('s')\n",
    "ax.set_ylabel('b')\n",
    "plt.show()"
   ]
  },
  {
   "cell_type": "code",
   "execution_count": null,
   "metadata": {},
   "outputs": [],
   "source": [
    "# compare the marginalised posteriors\n",
    "bins = np.linspace(0,30,60)\n",
    "\n",
    "#plotting\n",
    "fix, ax = plt.subplots()\n",
    "ax.hist(vals_flat[0], bins, \n",
    "        density=True, label='Flat prior', histtype='step')\n",
    "ax.hist(vals_Jeffreys[0], bins,\n",
    "        density=True, label='Jeffreys prior ($b=0$)', histtype='step')\n",
    "ax.hist(vals_Jeffreys_b[0], bins, \n",
    "        density=True, label='Jeffreys prior ($b=\\hat{b}$)', histtype='step')\n",
    "ax.set_xlabel('s')\n",
    "ax.legend()\n",
    "plt.show()\n",
    "\n",
    "# print\n",
    "print(\"For s:\")\n",
    "print(\"Flat prior: mean = %.2f, median = %.2f, std. dev. = %.2f\" % \n",
    "      (np.mean(vals_flat[0]), np.median(vals_flat[0]), np.std(vals_flat[0])))\n",
    "print(\"Jeffreys prior (b=0): mean = %.2f, median = %.2f, std. dev. = %.2f\" % \n",
    "      (np.mean(vals_Jeffreys[0]), np.median(vals_Jeffreys[0]), np.std(vals_Jeffreys[0])))\n",
    "print(\"Jeffreys prior (b=bhat): mean = %.2f, median = %.2f, std. dev. = %.2f\" % \n",
    "      (np.mean(vals_Jeffreys_b[0]), np.median(vals_Jeffreys_b[0]), np.std(vals_Jeffreys_b[0])))\n",
    "print(\"\\nFor b:\")\n",
    "print(\"Flat prior: mean = %.2f, median = %.2f, std. dev. = %.2f\" % \n",
    "      (np.mean(vals_flat[1]), np.median(vals_flat[1]), np.std(vals_flat[1])))\n",
    "print(\"Jeffreys prior (b=0): mean = %.2f, median = %.2f, std. dev. = %.2f\" % \n",
    "      (np.mean(vals_Jeffreys[1]), np.median(vals_Jeffreys[1]), np.std(vals_Jeffreys[1])))\n",
    "print(\"Jeffreys prior (b=bhat): mean = %.2f, median = %.2f, std. dev. = %.2f\" % \n",
    "      (np.mean(vals_Jeffreys_b[1]), np.median(vals_Jeffreys_b[1]), np.std(vals_Jeffreys_b[1])))\n",
    "print (\"\\nMLE: shat = %f, bhat = %f\" % (shat, bhat))"
   ]
  },
  {
   "cell_type": "markdown",
   "metadata": {},
   "source": [
    "### Comments on the results:\n",
    "TODO Write your comments here"
   ]
  },
  {
   "cell_type": "code",
   "execution_count": null,
   "metadata": {},
   "outputs": [],
   "source": []
  }
 ],
 "metadata": {
  "kernelspec": {
   "display_name": "Python 3",
   "language": "python",
   "name": "python3"
  },
  "language_info": {
   "codemirror_mode": {
    "name": "ipython",
    "version": 3
   },
   "file_extension": ".py",
   "mimetype": "text/x-python",
   "name": "python",
   "nbconvert_exporter": "python",
   "pygments_lexer": "ipython3",
   "version": "3.5.2"
  }
 },
 "nbformat": 4,
 "nbformat_minor": 2
}

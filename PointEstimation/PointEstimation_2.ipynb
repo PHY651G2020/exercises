{
 "cells": [
  {
   "cell_type": "markdown",
   "metadata": {},
   "source": [
    "## 1. MLE"
   ]
  },
  {
   "cell_type": "markdown",
   "metadata": {},
   "source": [
    "Derivation of the maximum likelihood estimates and their covariance matrix:\n",
    "\n",
    "$$\\ln \\mathcal{L} = \\frac{1}{2} \\sum_{i=1}^N (y_i - a -b x_i)^2$$\n",
    "\n",
    "$$\\frac{\\partial \\mathcal{L}}{\\partial a} = - \\sum_i (y_i - a - b x_i)$$\n",
    "\n",
    "$$\\frac{\\partial \\mathcal{L}}{\\partial b} = - \\sum_i x_i (y_i - a - b x_i)$$\n",
    "\n",
    "The MLEs $\\hat{a}$, $\\hat{b}$ are such that $\\left. \\frac{\\partial \\mathcal{L}}{\\partial a} \\right|_{\\hat{a},\\hat{b}} = \\left. \\frac{\\partial \\mathcal{L}}{\\partial b} \\right|_{\\hat{a},\\hat{b}} = 0$\n",
    "\n",
    "$$\\left\\{ \\begin{matrix} \n",
    "\\sum_i (y_i - a -b x_i) = 0 \\\\\n",
    "\\sum_i x_i (y_i - a -b x_i) = 0\n",
    "\\end{matrix} \\right.$$\n",
    "\n",
    "Using the sample mean notation $\\overline{X} \\equiv \\frac{1}{N} \\sum_{i=1}^N X_i$:\n",
    "\n",
    "$$\\left\\{ \\begin{matrix} \n",
    "a = \\overline{y} - b \\overline{x} \\\\\n",
    "\\overline{xy} - a \\overline{x} - b \\overline{x^2} = 0\n",
    "\\end{matrix} \\right.$$\n",
    "\n",
    "$$\\left\\{ \\begin{matrix} \n",
    "a = \\overline{y} - b \\overline{x} \\\\\n",
    "\\overline{xy} - \\overline{x} \\cdot \\overline{y} + b \\overline{x^2} - b \\overline{x}^2 = 0\n",
    "\\end{matrix} \\right.$$\n",
    "\n",
    "Finally: \n",
    "$$\\left\\{ \\begin{matrix} \n",
    "\\hat{a} = \\overline{y} - b \\overline{x} \\\\\n",
    "\\hat{b} = \\frac{\\overline{xy} - \\overline{x} \\cdot \\overline{y}}{\\overline{x^2} - \\overline{x}^2}\n",
    "\\end{matrix} \\right.$$\n",
    "\n",
    "Now the covariance matrix:\n",
    "\n",
    "$$V = \\left\\{ \\left. \\left( - \\frac{\\partial^2 \\ln \\mathcal{L}}{\\partial \\theta_i\\theta_j} \\right) \\right| \\right\\}^{-1}$$\n",
    "\n",
    "$$V = \\begin{pmatrix}\n",
    "N & N \\overline{x} \\\\\n",
    "N \\overline{x} & N \\overline{x^2}\n",
    "\\end{pmatrix}^{-1}$$\n",
    "\n",
    "$$V = \\frac{1}{N} \\frac{1}{\\overline{x^2} - \\overline{x}^2} \\begin{pmatrix}\n",
    "\\overline{x^2} & - \\overline{x} \\\\\n",
    "- \\overline{x} & 1\n",
    "\\end{pmatrix}$$\n",
    "\n",
    "Note: since the matrix of the second derivatives of $\\ln \\mathcal{L}$ happens to not depend on $a$ and $b$, the usual approximation to replace the true values of the parameters with their esimators in the evaluation of these second derivatives is not needed here, and the result is exact. In addition, $V$ is found to not depend on the measured data $\\{y_i\\}$ in the case studied here."
   ]
  },
  {
   "cell_type": "code",
   "execution_count": 1,
   "metadata": {},
   "outputs": [
    {
     "name": "stdout",
     "output_type": "stream",
     "text": [
      "first station only: V(MLE) =  ((60.8333333333329, -5.499999999999961), (-5.499999999999961, 0.49999999999999645))\n",
      "second station only: V(MLE) =  ((220.83333333332706, -10.499999999999702), (-10.499999999999702, 0.4999999999999858))\n",
      "both stations: V(MLE) =  ((1.8290043290043279, -0.10389610389610382), (-0.10389610389610382, 0.006493506493506489))\n",
      "MLE for both stations:  (2.648268398268401, 0.10844155844155828)\n"
     ]
    }
   ],
   "source": [
    "import numpy as np\n",
    "\n",
    "# 1. MLE\n",
    "def lnL(xx,yy,a,b):\n",
    "    s = 0\n",
    "    for i in range(0,len(xx)):\n",
    "        s = s + (yy[i]-a-b*xx[i])**2\n",
    "    return s\n",
    "\n",
    "def sl_MLE(xx,yy):\n",
    "    xy = xx * yy\n",
    "    xx2 = xx * xx\n",
    "    mean_x = np.mean(xx)\n",
    "    mean_y = np.mean(yy)\n",
    "    mean_x2 = np.mean(xx2)\n",
    "    mean_xy = np.mean(xy)\n",
    "    b = (mean_xy - mean_x*mean_y) / (mean_x2 - mean_x**2)\n",
    "    a = mean_y - b*mean_x\n",
    "    return (a,b)\n",
    "\n",
    "def sl_MLE_var(xx,yy):\n",
    "    xx2 = xx * xx\n",
    "    \n",
    "    A = 1/(len(xx)*(np.mean(xx2)-np.mean(xx)**2))\n",
    "    V11 = A*np.mean(xx2)\n",
    "    V12 = -A*np.mean(xx)\n",
    "    V21 = V12\n",
    "    V22 = A\n",
    "    return ((V11,V12),(V21,V22))\n",
    "\n",
    "# position of the detector hits\n",
    "xx12 = np.array([10,11,12,20,21,22])\n",
    "yy12 = np.array([4.0,3.8,3.6,5.2,4.9,4.8])\n",
    "\n",
    "# sub-arrays with only station 1 or only station 2\n",
    "xx1 = xx12[[0,1,2]]\n",
    "xx2 = xx12[[3,4,5]]\n",
    "yy1 = yy12[[0,1,2]]\n",
    "yy2 = yy12[[3,4,5]]\n",
    "\n",
    "print (\"first station only: V(MLE) = \", sl_MLE_var(xx1,yy1))\n",
    "print (\"second station only: V(MLE) = \", sl_MLE_var(xx2,yy2))\n",
    "print (\"both stations: V(MLE) = \", sl_MLE_var(xx12,yy12))\n",
    "mle12 = sl_MLE(xx12,yy12)\n",
    "print (\"MLE for both stations: \", mle12)\n",
    "\n",
    "mle1 = sl_MLE(xx1,yy1)\n",
    "mle2 = sl_MLE(xx2,yy2)"
   ]
  },
  {
   "cell_type": "markdown",
   "metadata": {},
   "source": [
    "## 2. draw $-2 \\ln \\mathcal{L}$"
   ]
  },
  {
   "cell_type": "code",
   "execution_count": 2,
   "metadata": {},
   "outputs": [],
   "source": [
    "from scipy import optimize\n",
    "import matplotlib.pyplot as plt"
   ]
  },
  {
   "cell_type": "code",
   "execution_count": 3,
   "metadata": {},
   "outputs": [
    {
     "data": {
      "image/png": "[encoded data removed]",
      "text/plain": [
       "<Figure size 432x288 with 1 Axes>"
      ]
     },
     "metadata": {
      "needs_background": "light"
     },
     "output_type": "display_data"
    }
   ],
   "source": [
    "# 2. draw -2 ln L\n",
    "def lnL_args_ab(x,*args):\n",
    "    a = x[0]\n",
    "    b = x[1]\n",
    "    xx = args[0]\n",
    "    yy = args[1]\n",
    "    return lnL(xx,yy,a,b)\n",
    "\n",
    "def lnL_args_a(x,*args):\n",
    "    a = args[2]\n",
    "    b = x\n",
    "    xx = args[0]\n",
    "    yy = args[1]\n",
    "    return lnL(xx,yy,a,b)\n",
    "\n",
    "lh_vals12 = []\n",
    "proflh_vals12 = []\n",
    "lh_vals1 = []\n",
    "proflh_vals1 = []\n",
    "lh_vals2 = []\n",
    "proflh_vals2 = []\n",
    "a_vals = []\n",
    "\n",
    "minlh12 = lnL(xx12,yy12,mle12[0],mle12[1])\n",
    "minlh1 = lnL(xx1,yy1,mle1[0],mle1[1])\n",
    "minlh2 = lnL(xx2,yy2,mle2[0],mle2[1])\n",
    "\n",
    "a_vals = np.linspace(0,15,150)\n",
    "for ai in a_vals:\n",
    "    # 12\n",
    "    lh_vals12.append(lnL(xx12,yy12,ai,mle12[1])-minlh12)\n",
    "    bhathat = optimize.fmin(lnL_args_a,mle12[1],args=(xx12,yy12,ai),disp=False)\n",
    "    proflh_vals12.append(lnL(xx12,yy12,ai,bhathat)-minlh12)\n",
    "    # 1\n",
    "    lh_vals1.append(lnL(xx1,yy1,ai,mle1[1])-minlh1)\n",
    "    bhathat = optimize.fmin(lnL_args_a,mle1[1],args=(xx1,yy1,ai),disp=False)\n",
    "    proflh_vals1.append(lnL(xx1,yy1,ai,bhathat)-minlh1)\n",
    "    # 2\n",
    "    lh_vals2.append(lnL(xx2,yy2,ai,mle2[1])-minlh2)\n",
    "    bhathat = optimize.fmin(lnL_args_a,mle2[1],args=(xx2,yy2,ai),disp=False)\n",
    "    proflh_vals2.append(lnL(xx2,yy2,ai,bhathat)-minlh2)\n",
    "\n",
    "# plotting\n",
    "fix, ax = plt.subplots()\n",
    "ax.plot(a_vals, proflh_vals1, label='$L_{prof,1} (a)$', linestyle='-', color='r')\n",
    "ax.plot(a_vals, lh_vals1, label='$L_{1} (a,\\hat{b})$', linestyle='--', color='r')\n",
    "ax.plot(a_vals, proflh_vals2, label='$L_{prof,2} (a)$', linestyle='-', color='b')\n",
    "ax.plot(a_vals, lh_vals2, label='$L_{2} (a,\\hat{b})$', linestyle='--', color='b')\n",
    "ax.plot(a_vals, proflh_vals12, label='$L_{prof,1+2} (a)$', linestyle='-', color='black')\n",
    "ax.plot(a_vals, lh_vals12, label='$L_{1+2} (a,\\hat{b})$', linestyle='--', color='black')\n",
    "ax.set_ybound(0,6)\n",
    "ax.set_xlabel('a')\n",
    "ax.set_ylabel('$-2 \\Delta \\ln(\\mathcal{L})$')\n",
    "ax.legend()\n",
    "plt.show()"
   ]
  },
  {
   "cell_type": "markdown",
   "metadata": {},
   "source": [
    "## 3. Add information\n",
    "$$\\langle b \\rangle = 0.1,\\quad \\sigma_b = 0.05$$"
   ]
  },
  {
   "cell_type": "code",
   "execution_count": 4,
   "metadata": {},
   "outputs": [
    {
     "data": {
      "image/png": "[encoded data removed]",
      "text/plain": [
       "<Figure size 432x288 with 1 Axes>"
      ]
     },
     "metadata": {
      "needs_background": "light"
     },
     "output_type": "display_data"
    }
   ],
   "source": [
    "def lnL(xx,yy,a,b):\n",
    "    s = 0\n",
    "    for i in range(0,len(xx)):\n",
    "        s = s + (yy[i]-a-b*xx[i])**2\n",
    "    s = s + ((b-0.1)/0.05)**2\n",
    "    return s\n",
    "\n",
    "def sl_MLE(xx,yy):\n",
    "    mle = optimize.fmin(lnL_args_ab,(1,1),args=(xx,yy),disp=False)\n",
    "    return mle\n",
    "\n",
    "mle12 = sl_MLE(xx12,yy12)\n",
    "mle1 = sl_MLE(xx1,yy1)\n",
    "mle2 = sl_MLE(xx2,yy2)\n",
    "\n",
    "lh_vals12 = []\n",
    "proflh_vals12 = []\n",
    "lh_vals1 = []\n",
    "proflh_vals1 = []\n",
    "lh_vals2 = []\n",
    "proflh_vals2 = []\n",
    "a_vals = []\n",
    "\n",
    "minlh12 = lnL(xx12,yy12,mle12[0],mle12[1])\n",
    "minlh1 = lnL(xx1,yy1,mle1[0],mle1[1])\n",
    "minlh2 = lnL(xx2,yy2,mle2[0],mle2[1])\n",
    "\n",
    "for i in range(0,150):\n",
    "    ai = i*0.1\n",
    "    a_vals.append(ai)\n",
    "    # 12\n",
    "    lh_vals12.append(lnL(xx12,yy12,ai,mle12[1])-minlh12)\n",
    "    bhathat = optimize.fmin(lnL_args_a,mle12[1],args=(xx12,yy12,ai),disp=False)\n",
    "    proflh_vals12.append(lnL(xx12,yy12,ai,bhathat)-minlh12)\n",
    "    # 1\n",
    "    lh_vals1.append(lnL(xx1,yy1,ai,mle1[1])-minlh1)\n",
    "    bhathat = optimize.fmin(lnL_args_a,mle1[1],args=(xx1,yy1,ai),disp=False)\n",
    "    proflh_vals1.append(lnL(xx1,yy1,ai,bhathat)-minlh1)\n",
    "    # 2\n",
    "    lh_vals2.append(lnL(xx2,yy2,ai,mle2[1])-minlh2)\n",
    "    bhathat = optimize.fmin(lnL_args_a,mle2[1],args=(xx2,yy2,ai),disp=False)\n",
    "    proflh_vals2.append(lnL(xx2,yy2,ai,bhathat)-minlh2)\n",
    "\n",
    "# plotting\n",
    "fix, ax = plt.subplots()\n",
    "ax.plot(a_vals, proflh_vals1, label='$L_{prof,1} (a)$', linestyle='-', color='r')\n",
    "ax.plot(a_vals, lh_vals1, label='$L_{1} (a,\\hat{b})$', linestyle='--', color='r')\n",
    "ax.plot(a_vals, proflh_vals2, label='$L_{prof,2} (a)$', linestyle='-', color='b')\n",
    "ax.plot(a_vals, lh_vals2, label='$L_{2} (a,\\hat{b})$', linestyle='--', color='b')\n",
    "ax.plot(a_vals, proflh_vals12, label='$L_{prof,1+2} (a)$', linestyle='-', color='black')\n",
    "ax.plot(a_vals, lh_vals12, label='$L_{1+2} (a,\\hat{b})$', linestyle='--', color='black')\n",
    "ax.set_ybound(0,6)\n",
    "ax.set_xlabel('a')\n",
    "ax.set_ylabel('$-2 \\Delta \\ln(\\mathcal{L})$')\n",
    "ax.legend()\n",
    "plt.show()"
   ]
  },
  {
   "cell_type": "markdown",
   "metadata": {},
   "source": [
    "## 4. Data combination\n",
    "\n",
    "Up to now, we were considering the two parameters $(a,b)$, either for both tracking stations together, or one tracking station at a time. In this question, we focus on $a$ alone, and want to combine the measurements from the two tracking stations, using the BLUE method.\n",
    "\n",
    "For this, we need the covariance matrix not between $\\hat{a}$ and $\\hat{b}$, but between the tracking stations 1 and 2, for $\\hat{a}$ alone. \n",
    "\n",
    "$$W = \\text{cov}(\\hat{a}_1,\\hat{a}_2) = \\begin{pmatrix}\n",
    "(\\sigma_1^a)^2 & \\sigma_1^a \\sigma_2^a \\\\\n",
    "\\sigma_1^a \\sigma_2^a & (\\sigma_2^a)^2\n",
    "\\end{pmatrix}$$\n",
    "\n",
    "How shall we proceed?\n",
    "\n",
    "* We already know the diagonal elements: they are simply $\\sigma(\\hat{a}_i)^2$, the $(1,1)$ elements of the covariance matrices we computed in question 1.\n",
    "* Knowing the off-diagonal elements is a bit more difficult. We make the following decomposition: $W = W_\\text{stat} + W_\\text{syst,b}$. \n",
    "  * $W_\\text{stat}$ represents the \"statistical only\" uncertainty on $\\hat{a}$: it corresponds to the uncertainty on $\\hat{a}$ when $b$ is fixed to its MLE estimate $\\hat{b}$. This is a diagonal matrix: it corresponds to the uncertainty from the measurements in tracking station $i$, assuming $b$ would be perfectly known.\n",
    "  * $W_\\text{syst,b}$ represents the \"systematic\" uncertainty due to the fact that $b$ is in fact not known. We can expect it to be fully correlated ($\\rho = 1$): the true value of $b$ is the same in both tracking stations.\n",
    "* We then proceed in the following way:\n",
    "  * The diagonal elements of $W$ are known, as we have seen.\n",
    "  * $W_\\text{stat}$, which is diagonal, is fully known.\n",
    "  * $W_\\text{syst,b}$ follows by $W_\\text{syst,b} = W - W_\\text{stat}$\n",
    "    * This gives us directly the diagonal elements.\n",
    "    * Off-diagonal elements are then obtained knowing that $\\rho = 1$.\n",
    "  * Now we know completely $W_\\text{stat}$ and $W_\\text{syst,b}$, i.e. we know completely $W$.\n",
    "* We can now directly apply the BLUE method:\n",
    "\n",
    "$$a_{12} =  \\frac{\\sum_{j} \\left(W^{-1}\\right)_{1j}}{\\sum_{i,j} \\left(W^{-1}\\right)_{ij}} \\times a_1\n",
    "+ \\frac{\\sum_{j} \\left(W^{-1}\\right)_{2j}}{\\sum_{i,j} \\left(W^{-1}\\right)_{ij}} \\times a_2$$"
   ]
  },
  {
   "cell_type": "code",
   "execution_count": 5,
   "metadata": {},
   "outputs": [
    {
     "name": "stdout",
     "output_type": "stream",
     "text": [
      "total correlation coefficient:  0.996503579950402\n",
      "a1 =  6.000000000000094\n",
      "a2 =  9.166666666667204\n",
      "BLUE combination of a:  2.5833333333328774\n",
      "MLE for both tracking stations for a:  2.648268398268401\n"
     ]
    }
   ],
   "source": [
    "# 4. BLUE\n",
    "# we go back to the first likelihood, without constraint on b\n",
    "def lnL(xx,yy,a,b):\n",
    "    s = 0\n",
    "    for i in range(0,len(xx)):\n",
    "        s = s + (yy[i]-a-b*xx[i])**2\n",
    "    return s\n",
    "\n",
    "def sl_MLE(xx,yy):\n",
    "    xy = []\n",
    "    xx2 = []\n",
    "    for i in range(0,len(xx)):\n",
    "        xy.append( xx[i]*yy[i])\n",
    "        xx2.append(xx[i]*xx[i])\n",
    "    mean_x = np.mean(xx)\n",
    "    mean_y = np.mean(yy)\n",
    "    mean_x2 = np.mean(xx2)\n",
    "    mean_xy = np.mean(xy)\n",
    "    b = (mean_xy - mean_x*mean_y) / (mean_x2 - mean_x**2)\n",
    "    a = mean_y - b*mean_x\n",
    "    return (a,b)\n",
    "\n",
    "# reset the MLEs\n",
    "mle12 = sl_MLE(xx12,yy12)\n",
    "mle1 = sl_MLE(xx1,yy1)\n",
    "mle2 = sl_MLE(xx2,yy2)\n",
    "\n",
    "# also the covariance matrices\n",
    "V12 = sl_MLE_var(xx12,yy12)\n",
    "V1 = sl_MLE_var(xx1,yy1)\n",
    "V2 = sl_MLE_var(xx2,yy2)\n",
    "\n",
    "# get the variance for a1 and a2, with fixed b\n",
    "var_a_stat1 = 1./float(len(xx1))\n",
    "var_a_stat2 = 1./float(len(xx2))\n",
    "\n",
    "# build the cov(a1,a2) matrix W = (wij)\n",
    "w11 = V1[0][0]\n",
    "w22 = V2[0][0]\n",
    "# try multiplying w12 below with a number close to 1 and observe the effect on the result ablue\n",
    "w12 = np.sqrt(w11-var_a_stat1)*np.sqrt(w22-var_a_stat2) # * 0.95\n",
    "\n",
    "w21 = w12\n",
    "W = ((w11,w12),(w21,w22))\n",
    "# correlation coefficient for the covariance matrix W of a1 and a2\n",
    "rho_tot = w12/np.sqrt(w11*w22)\n",
    "print (\"total correlation coefficient: \", rho_tot)\n",
    "\n",
    "# apply the BLUE method\n",
    "detW = w11*w22 - w12*w21\n",
    "Winv = ((w22/detW,-w12/detW),(-w21/detW,w11/detW))\n",
    "sumwt = Winv[0][0]+Winv[0][1]+Winv[1][0]+Winv[1][1]\n",
    "# weights are computed as follows:\n",
    "wt1 = (Winv[0][0]+Winv[0][1])/sumwt\n",
    "wt2 = (Winv[1][0]+Winv[1][1])/sumwt\n",
    "# and the BLUE combination (weighted average) is:\n",
    "ablue = mle1[0]*wt1 + mle2[0]*wt2\n",
    "\n",
    "print (\"a1 = \", mle1[0])\n",
    "print (\"a2 = \", mle2[0])\n",
    "print (\"BLUE combination of a: \", ablue)\n",
    "print (\"MLE for both tracking stations for a: \", mle12[0])"
   ]
  },
  {
   "cell_type": "markdown",
   "metadata": {},
   "source": [
    "Observations:\n",
    "* the combined value is outside of $[a_1,a_2]$, because of the strong correlation\n",
    "* the exact result is extremely sensitive to the exact value of this correlation between $a_1$ and $a_2$ (try to multiply w12 by even only 0.99...). "
   ]
  },
  {
   "cell_type": "markdown",
   "metadata": {},
   "source": [
    "## Bonus 1: toy study\n",
    "\n",
    "We will check the results by repeating the experiment many times and checking the properties of the results."
   ]
  },
  {
   "cell_type": "code",
   "execution_count": 6,
   "metadata": {},
   "outputs": [],
   "source": [
    "# some definitions\n",
    "\n",
    "# function comparing the MLE with the BLUE combination. Returns |MLE - BLUE|.\n",
    "def MLEvsBLUE(rho,a1,a2,var1,var2,true12):\n",
    "    if rho<-1 or rho>1:\n",
    "        return 1e6\n",
    "    w11 = var1\n",
    "    w22 = var2\n",
    "    w12 = rho*np.sqrt(var1*var2)\n",
    "    w21 = w12\n",
    "    W = ((w11,w12),(w21,w22))\n",
    "    # apply the BLUE method\n",
    "    detW = w11*w22 - w12*w12\n",
    "    Winv = ((w22/detW,-w12/detW),(-w21/detW,w11/detW))\n",
    "    sumwt = Winv[0][0]+Winv[0][1]+Winv[1][0]+Winv[1][1]\n",
    "    # weights are computed as follows:\n",
    "    wt1 = (Winv[0][0]+Winv[0][1])/sumwt\n",
    "    wt2 = (Winv[1][0]+Winv[1][1])/sumwt\n",
    "    # and the BLUE combination (weighted average) is:\n",
    "    ablue = a1*wt1 + a2*wt2\n",
    "    return abs(ablue-true12)\n",
    "\n",
    "# function doing the minimisation of MLEvsBLUE, \n",
    "# to find the best rho that we would need so that BLUE and the MLE match.\n",
    "def findrho(a1,a2,var1,var2,true12):\n",
    "    result = optimize.fmin(MLEvsBLUE,0.99,args=(a1,a2,var1,var2,true12),disp=False)\n",
    "    return result[0]"
   ]
  },
  {
   "cell_type": "code",
   "execution_count": 7,
   "metadata": {},
   "outputs": [],
   "source": [
    "### the actualy toy study\n",
    "\n",
    "# \"true\" values of the parameters to be used\n",
    "a0 = mle12[0]\n",
    "b0 = mle12[1]\n",
    "\n",
    "# number of toy experiments\n",
    "Ntoys = 1000\n",
    "\n",
    "# arrays to hold the results\n",
    "atoys_mle = []\n",
    "atoys_blue = []\n",
    "atoys_bluecheck = []\n",
    "a1toys_mle = []\n",
    "a2toys_mle = []\n",
    "rho_toys = []\n",
    "rhob_toys = []\n",
    "ybar1_toys = []\n",
    "ybar2_toys = []\n",
    "\n",
    "for i in range(Ntoys):\n",
    "    # generate the toys\n",
    "    # position of the detector hits\n",
    "    yy12_toys = []\n",
    "    for i in range(6):\n",
    "        yy12_toys.append(np.random.normal(a0+b0*xx12[i],1))\n",
    "    yy12_toys = np.array(yy12_toys)\n",
    "\n",
    "    # sub-arrays with only station 1 or only station 2\n",
    "    yy1_toys = yy12_toys[[0,1,2]]\n",
    "    yy2_toys = yy12_toys[[3,4,5]]\n",
    "    \n",
    "    mle12_toys = sl_MLE(xx12,yy12_toys)\n",
    "    atoys_mle.append(mle12_toys)\n",
    "    mle1_toys = sl_MLE(xx1,yy1_toys)\n",
    "    a1toys_mle.append(mle1_toys)\n",
    "    mle2_toys = sl_MLE(xx2,yy2_toys)\n",
    "    a2toys_mle.append(mle2_toys)\n",
    "    \n",
    "    ybar1_toys.append(np.mean(yy1_toys))\n",
    "    ybar2_toys.append(np.mean(yy2_toys))\n",
    "\n",
    "    # also the covariance matrices\n",
    "    V12_toys = sl_MLE_var(xx12,yy12_toys)\n",
    "    V1_toys = sl_MLE_var(xx1,yy1_toys)\n",
    "    V2_toys = sl_MLE_var(xx2,yy2_toys)\n",
    "\n",
    "    # get the variance for a1 and a2, with fixed b\n",
    "    var_a_stat1 = 1./float(len(xx1))\n",
    "    var_a_stat2 = 1./float(len(xx2))\n",
    "\n",
    "    # build the cov(a1,a2) matrix W = (wij)\n",
    "    w11 = V1_toys[0][0]\n",
    "    w22 = V2_toys[0][0]\n",
    "    w12 = np.sqrt(w11-var_a_stat1)*np.sqrt(w22-var_a_stat2) \n",
    "\n",
    "    w21 = w12\n",
    "    W = ((w11,w12),(w21,w22))\n",
    "    # correlation coefficient for the covariance matrix W of a1 and a2\n",
    "    rho_tot = w12/np.sqrt(w11*w22)\n",
    "    # print (\"total correlation coefficient: \", rho_tot)\n",
    "\n",
    "    # apply the BLUE method\n",
    "    detW = w11*w22 - w12*w21\n",
    "    Winv = ((w22/detW,-w12/detW),(-w21/detW,w11/detW))\n",
    "    sumwt = Winv[0][0]+Winv[0][1]+Winv[1][0]+Winv[1][1]\n",
    "    # weights are computed as follows:\n",
    "    wt1 = (Winv[0][0]+Winv[0][1])/sumwt\n",
    "    wt2 = (Winv[1][0]+Winv[1][1])/sumwt\n",
    "    # and the BLUE combination (weighted average) is:\n",
    "    ablue = mle1_toys[0]*wt1 + mle2_toys[0]*wt2\n",
    "    atoys_blue.append(ablue)\n",
    "    \n",
    "    # finally, compute what rho we would need to make BLUE work\n",
    "    rho12 = findrho(mle1_toys[0],mle2_toys[0],w11,w22,mle12_toys[0])\n",
    "    rho_toys.append(rho12)\n",
    "    atoys_bluecheck.append(MLEvsBLUE(rho12,mle1_toys[0],mle2_toys[0],w11,w22,mle12_toys[0]))\n",
    "    rhob_toys.append(rho12*np.sqrt(w11*w22)/np.sqrt((w11-var_a_stat1)*(w22-var_a_stat2)))\n",
    "    \n",
    "atoys_mle = np.array(atoys_mle)\n",
    "a1toys_mle = np.array(a1toys_mle)\n",
    "a2toys_mle = np.array(a2toys_mle)"
   ]
  },
  {
   "cell_type": "code",
   "execution_count": 8,
   "metadata": {},
   "outputs": [
    {
     "name": "stdout",
     "output_type": "stream",
     "text": [
      "mean for MLE: 2.6845105654837926\n",
      "mean for BLUE: 3.8450913729425555\n",
      "true value: 2.648268398268401\n",
      "\n",
      "stddev for MLE: 1.3805794782816407\n",
      "stddev for BLUE: 22.92691718177267\n",
      "true value: 1.352406865186778\n"
     ]
    }
   ],
   "source": [
    "# check the results\n",
    "print(\"mean for MLE:\", np.mean(atoys_mle[:,0]))\n",
    "print(\"mean for BLUE:\", np.mean(atoys_blue))\n",
    "print(\"true value:\", a0)\n",
    "print(\"\")\n",
    "print(\"stddev for MLE:\", np.std(atoys_mle[:,0],ddof=1))\n",
    "print(\"stddev for BLUE:\", np.std(atoys_blue,ddof=1))\n",
    "print(\"true value:\", np.sqrt(V12[0][0]))"
   ]
  },
  {
   "cell_type": "markdown",
   "metadata": {},
   "source": [
    "It can be seen that the MLE is indeed unbiased and has the expected variance. Our BLUE estimate, however, is indeed unbiased but gets a very large variance... showing that our naive derivation of the $W$ matrix was not correct. In this case, using BLUE is not appropriate, and it is much better (and simpler) to directly combine the likelihoods, from the original data."
   ]
  },
  {
   "cell_type": "code",
   "execution_count": 9,
   "metadata": {},
   "outputs": [
    {
     "data": {
      "image/png": "[encoded data removed]",
      "text/plain": [
       "<Figure size 432x288 with 1 Axes>"
      ]
     },
     "metadata": {
      "needs_background": "light"
     },
     "output_type": "display_data"
    }
   ],
   "source": [
    "# plotting the value of rho_b, which we assumed to be equal to 1\n",
    "fig, axes = plt.subplots()\n",
    "axes.hist(rhob_toys)\n",
    "plt.show()"
   ]
  },
  {
   "cell_type": "markdown",
   "metadata": {},
   "source": [
    "$\\rho_b$, which we assumed equal to 1, is actually found to take a range of values between -1 and 1, when we tune it toy-by-toy to match the BLUE estimate to the MLE!"
   ]
  },
  {
   "cell_type": "markdown",
   "metadata": {},
   "source": [
    "## Bonus 2: drawing covariance ellipses\n",
    "We will visualise the covariance matrices as ellipses, as seen in the lecture slides. This is a graphical way to see the combination of the two lines $L_1$ and $L_2$. We could show that, in our case, doing a global fit of the six measurements is equivalent to simply \"combining the two lines\" directly, i.e. considering the likelihood built from the joint pdf of $(\\hat{a}_1, \\hat{b}_1; \\hat{a}_2, \\hat{b}_2)$ (each of which being normal, with the covariance matrix which we have computed)."
   ]
  },
  {
   "cell_type": "code",
   "execution_count": 10,
   "metadata": {},
   "outputs": [],
   "source": [
    "# first some function definitions, required for drawing the ellipses\n",
    "\n",
    "from matplotlib.patches import Ellipse\n",
    "import matplotlib.transforms as transforms\n",
    "\n",
    "# see https://matplotlib.org/devdocs/gallery/statistics/confidence_ellipse.html\n",
    "def confidence_ellipse(centre, cov, ax, n_std=1.0, facecolor='none', **kwargs):\n",
    "    \"\"\"\n",
    "    Create a plot of the covariance confidence ellipse of *x* and *y*.\n",
    "\n",
    "    Parameters\n",
    "    ----------\n",
    "    x, y : array-like, shape (n, )\n",
    "        Input data.\n",
    "\n",
    "    ax : matplotlib.axes.Axes\n",
    "        The axes object to draw the ellipse into.\n",
    "\n",
    "    n_std : float\n",
    "        The number of standard deviations to determine the ellipse's radiuses.\n",
    "\n",
    "    **kwargs\n",
    "        Forwarded to `~matplotlib.patches.Ellipse`\n",
    "\n",
    "    Returns\n",
    "    -------\n",
    "    matplotlib.patches.Ellipse\n",
    "    \"\"\"\n",
    "    pearson = cov[0][1]/np.sqrt(cov[0][0] * cov[1][1])\n",
    "    ell_radius_x = np.sqrt(1 + pearson)\n",
    "    ell_radius_y = np.sqrt(1 - pearson)\n",
    "    ellipse = Ellipse((0,0), width=ell_radius_x * 2, height=ell_radius_y * 2,\n",
    "                      facecolor=facecolor, **kwargs)\n",
    "\n",
    "    # Calculating the stdandard deviation of x from\n",
    "    # the squareroot of the variance and multiplying\n",
    "    # with the given number of standard deviations.\n",
    "    scale_x = np.sqrt(cov[0][0]) * n_std\n",
    "    mean_x = centre[0]\n",
    "\n",
    "    # calculating the stdandard deviation of y ...\n",
    "    scale_y = np.sqrt(cov[1][1]) * n_std\n",
    "    mean_y = centre[1]\n",
    "\n",
    "    transf = transforms.Affine2D() \\\n",
    "        .rotate_deg(45) \\\n",
    "        .scale(scale_x, scale_y) \\\n",
    "        .translate(mean_x, mean_y)\n",
    "\n",
    "    ellipse.set_transform(transf + ax.transData)\n",
    "    return ax.add_patch(ellipse)\n",
    "\n",
    "def draw_ellipse(mle1,mle2,mle12):\n",
    "    V1 = sl_MLE_var(xx1,yy1)\n",
    "    V2 = sl_MLE_var(xx2,yy2)\n",
    "    V12 = sl_MLE_var(xx12,yy12)\n",
    "    \n",
    "    fix, axes = plt.subplots()\n",
    "    confidence_ellipse(mle1,V1,axes,edgecolor='blue',label='L1')\n",
    "    confidence_ellipse(mle2,V2,axes,edgecolor='red',label='L2')\n",
    "    confidence_ellipse(mle12,V12,axes,edgecolor='black',label='L12')\n",
    "    axes.scatter(mle1[0], mle1[1], c='blue', s=3)\n",
    "    axes.scatter(mle2[0], mle2[1], c='red', s=3)\n",
    "    axes.scatter(mle12[0], mle12[1], c='black', s=3)\n",
    "    axes.legend()\n",
    "    axes.set_xlabel('a')\n",
    "    axes.set_ylabel('b')\n",
    "    plt.show()"
   ]
  },
  {
   "cell_type": "code",
   "execution_count": 11,
   "metadata": {},
   "outputs": [
    {
     "data": {
      "image/png": "[encoded data removed]",
      "text/plain": [
       "<Figure size 432x288 with 1 Axes>"
      ]
     },
     "metadata": {
      "needs_background": "light"
     },
     "output_type": "display_data"
    }
   ],
   "source": [
    "# draw the ellipses for the case in the text of the exercise\n",
    "draw_ellipse(mle1,mle2,mle12)"
   ]
  },
  {
   "cell_type": "code",
   "execution_count": 12,
   "metadata": {},
   "outputs": [
    {
     "data": {
      "image/png": "[encoded data removed]",
      "text/plain": [
       "<Figure size 432x288 with 1 Axes>"
      ]
     },
     "metadata": {
      "needs_background": "light"
     },
     "output_type": "display_data"
    }
   ],
   "source": [
    "# draw the ellipses for any of our toys\n",
    "i=0\n",
    "draw_ellipse(a1toys_mle[i],a2toys_mle[i],atoys_mle[i])"
   ]
  },
  {
   "cell_type": "code",
   "execution_count": 13,
   "metadata": {},
   "outputs": [],
   "source": [
    "# we can also draw the lines\n",
    "def drawlines(mle1,mle2,mle12):\n",
    "    xvals = np.linspace(-10,50,100)\n",
    "    yvals1 = mle1[0] + mle1[1]*xvals\n",
    "    yvals2 = mle2[0] + mle2[1]*xvals\n",
    "    yvals12 = mle12[0] + mle12[1]*xvals\n",
    "    det1x = [np.mean(xx1),np.mean(xx1)]\n",
    "    det1y = [-5,10]\n",
    "    det2x = [np.mean(xx2),np.mean(xx2)]\n",
    "    det2y = [-5,10]\n",
    "    \n",
    "    fig, ax = plt.subplots()\n",
    "    ax.plot(xvals,yvals1,color='blue',label=\"L1\")\n",
    "    ax.plot(xvals,yvals2,color='red',label=\"L2\")\n",
    "    ax.plot(xvals,yvals12,color='black',label=\"L12\")\n",
    "    ax.plot(det1x,det1y,'--',color='black')\n",
    "    ax.plot(det2x,det2y,'--',color='black')\n",
    "    ax.set_xlabel('x')\n",
    "    ax.set_ylabel('y')\n",
    "    ax.set_ybound(-5,10)\n",
    "    ax.legend()\n",
    "    plt.show()"
   ]
  },
  {
   "cell_type": "code",
   "execution_count": 14,
   "metadata": {},
   "outputs": [
    {
     "data": {
      "image/png": "[encoded data removed]",
      "text/plain": [
       "<Figure size 432x288 with 1 Axes>"
      ]
     },
     "metadata": {
      "needs_background": "light"
     },
     "output_type": "display_data"
    }
   ],
   "source": [
    "drawlines(mle1,mle2,mle12)"
   ]
  },
  {
   "cell_type": "code",
   "execution_count": null,
   "metadata": {},
   "outputs": [],
   "source": []
  }
 ],
 "metadata": {
  "kernelspec": {
   "display_name": "Python 3",
   "language": "python",
   "name": "python3"
  },
  "language_info": {
   "codemirror_mode": {
    "name": "ipython",
    "version": 3
   },
   "file_extension": ".py",
   "mimetype": "text/x-python",
   "name": "python",
   "nbconvert_exporter": "python",
   "pygments_lexer": "ipython3",
   "version": "3.5.2"
  }
 },
 "nbformat": 4,
 "nbformat_minor": 2
}
